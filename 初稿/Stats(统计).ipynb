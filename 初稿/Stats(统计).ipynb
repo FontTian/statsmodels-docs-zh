{
 "cells": [
  {
   "cell_type": "markdown",
   "metadata": {},
   "source": [
    "本节收集各种统计测试和工具。某些模型可以独立于任何模型使用，而某些模型则是对模型和模型结果的扩展。\n",
    "\n",
    "API警告：此类别中的函数和对象分布在各个模块中，并且可能仍在移动。我们希望将来统计测试将返回具有更多信息报告的类实例，而不仅仅是原始数字。"
   ]
  },
  {
   "cell_type": "code",
   "execution_count": null,
   "metadata": {},
   "outputs": [],
   "source": []
  }
 ],
 "metadata": {
  "kernelspec": {
   "display_name": "Python 3",
   "language": "python",
   "name": "python3"
  },
  "language_info": {
   "codemirror_mode": {
    "name": "ipython",
    "version": 3
   },
   "file_extension": ".py",
   "mimetype": "text/x-python",
   "name": "python",
   "nbconvert_exporter": "python",
   "pygments_lexer": "ipython3",
   "version": "3.7.1"
  }
 },
 "nbformat": 4,
 "nbformat_minor": 2
}
